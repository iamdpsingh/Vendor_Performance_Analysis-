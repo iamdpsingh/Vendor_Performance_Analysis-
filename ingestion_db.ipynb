{
 "cells": [
  {
   "cell_type": "code",
   "execution_count": 9,
   "id": "dac1a0f9",
   "metadata": {},
   "outputs": [
    {
     "data": {
      "text/plain": [
       "' \\nThis code is used to load the raw data into the database using sqlite on local machine.\\nIn final .py code of ingestion I have used Postgre Sql as database.\\nIf your System have sufficient resources then you can use sqlite3 for local machine, Otherwise use PostgreSql or any other database.\\nThis Notebook is to understand the working of ingestion_db.py\\n'"
      ]
     },
     "execution_count": 9,
     "metadata": {},
     "output_type": "execute_result"
    }
   ],
   "source": [
    "''' \n",
    "This code is used to load the raw data into the database using sqlite on local machine.\n",
    "In final .py code of ingestion I have used Postgre Sql as database.\n",
    "If your System have sufficient resources then you can use sqlite3 for local machine, Otherwise use PostgreSql or any other database.\n",
    "This Notebook is to understand the working of ingestion_db.py\n",
    "'''"
   ]
  },
  {
   "cell_type": "code",
   "execution_count": 10,
   "id": "2b98ed78",
   "metadata": {},
   "outputs": [],
   "source": [
    "import pandas as pd\n",
    "import os\n",
    "from sqlalchemy import create_engine"
   ]
  },
  {
   "cell_type": "code",
   "execution_count": 11,
   "id": "f6012a06",
   "metadata": {},
   "outputs": [],
   "source": [
    "engine=create_engine(\"sqlite:///inventory.db\")"
   ]
  },
  {
   "cell_type": "code",
   "execution_count": 12,
   "id": "1f45706e",
   "metadata": {},
   "outputs": [
    {
     "name": "stdout",
     "output_type": "stream",
     "text": [
      "purchases.csv\n",
      "purchase_prices.csv\n",
      "vendor_invoice.csv\n",
      "begin_inventory.csv\n",
      "end_inventory.csv\n",
      "sales.csv\n"
     ]
    }
   ],
   "source": [
    "for file in os.listdir('data'):\n",
    "    print(file)"
   ]
  },
  {
   "cell_type": "code",
   "execution_count": 13,
   "id": "dfd1640b",
   "metadata": {},
   "outputs": [
    {
     "name": "stdout",
     "output_type": "stream",
     "text": [
      "(2372474, 16)\n",
      "(12261, 9)\n",
      "(5543, 10)\n",
      "(206529, 9)\n",
      "(224489, 9)\n",
      "(12825363, 14)\n"
     ]
    }
   ],
   "source": [
    "for file in os.listdir('data'):\n",
    "    if '.csv' in file:\n",
    "        df=pd.read_csv(f'data/{file}')\n",
    "        print(df.shape)"
   ]
  },
  {
   "cell_type": "code",
   "execution_count": 14,
   "id": "fe3bda6d",
   "metadata": {},
   "outputs": [],
   "source": [
    "def ingest_db(df, table_name, engine):\n",
    "    df.to_sql(table_name, engine, if_exists='replace', index=False)"
   ]
  },
  {
   "cell_type": "code",
   "execution_count": 15,
   "id": "27502395",
   "metadata": {},
   "outputs": [
    {
     "name": "stdout",
     "output_type": "stream",
     "text": [
      "(2372474, 16)\n",
      "(12261, 9)\n",
      "(5543, 10)\n",
      "(206529, 9)\n",
      "(224489, 9)\n",
      "(12825363, 14)\n"
     ]
    }
   ],
   "source": [
    "for file in os.listdir('data'):\n",
    "    if '.csv' in file:\n",
    "        df=pd.read_csv(f'data/{file}')\n",
    "        print(df.shape)\n",
    "        ingest_db(df,file[:-4],engine)"
   ]
  },
  {
   "cell_type": "code",
   "execution_count": 16,
   "id": "10b87467",
   "metadata": {},
   "outputs": [],
   "source": [
    "import logging\n",
    "\n",
    "logging.basicConfig(\n",
    "    filename=\"local Machine logs-notebook/ingestion_db.log\",\n",
    "    level=logging.INFO,\n",
    "    format=\"%(asctime)s - %(levelname)s - %(message)s\",\n",
    "    filemode=\"a\",\n",
    "    force=True\n",
    ")"
   ]
  },
  {
   "cell_type": "code",
   "execution_count": 17,
   "id": "e0aae84b",
   "metadata": {},
   "outputs": [],
   "source": [
    "import time\n",
    "def load_raw_data():\n",
    "    '''This function will load the CSVs as dataframe and ingest them into database'''\n",
    "    start=time.time()\n",
    "    for file in os.listdir('data'):\n",
    "        if '.csv' in file:\n",
    "            df=pd.read_csv(f'data/{file}')\n",
    "            logging.info(f'Ingesting {file} into database...')\n",
    "            ingest_db(df,file[:-4],engine)\n",
    "    end=time.time()\n",
    "    time_taken=(end-start)/60\n",
    "    logging.info('-----------------Ingestion Complete-----------------')\n",
    "    logging.info(f'\\nTime Taken for ingestion {time_taken} seconds')\n",
    "    "
   ]
  },
  {
   "cell_type": "code",
   "execution_count": 18,
   "id": "046de69b",
   "metadata": {},
   "outputs": [],
   "source": [
    "def ingest_db(df, table_name, engine):\n",
    "    '''This Function will ingest the dataframe into database tables'''\n",
    "    df.to_sql(table_name, engine, if_exists='replace', index=False)"
   ]
  },
  {
   "cell_type": "code",
   "execution_count": 19,
   "id": "4bf7cc82",
   "metadata": {},
   "outputs": [],
   "source": [
    "'''\n",
    "This is the final code for ingestion_db.py if you want to use sqlite3 for local machine\n",
    "'''\n",
    "\n",
    "import pandas as pd\n",
    "import os\n",
    "from sqlalchemy import create_engine\n",
    "import logging\n",
    "import time\n",
    "\n",
    "logging.basicConfig(\n",
    "    filename=\"local Machine logs-notebook/ingestion_db.log\",\n",
    "    level=logging.INFO,\n",
    "    format=\"%(asctime)s - %(levelname)s - %(message)s\",\n",
    "    filemode=\"a\",\n",
    "    force=True\n",
    ")\n",
    "engine=create_engine(\"sqlite:///inventory.db\")\n",
    "\n",
    "def ingest_db(df, table_name, engine):\n",
    "    '''This Function will ingest the dataframe into database tables'''\n",
    "    df.to_sql(table_name, engine, if_exists='replace', index=False)\n",
    "\n",
    "import time\n",
    "def load_raw_data():\n",
    "    '''This function will load the CSVs as dataframe and ingest them into database'''\n",
    "    start=time.time()\n",
    "    for file in os.listdir('data'):\n",
    "        if '.csv' in file:\n",
    "            df=pd.read_csv(f'data/{file}')\n",
    "            logging.info(f'Ingesting {file} into database...')\n",
    "            ingest_db(df,file[:-4],engine)\n",
    "    end=time.time()\n",
    "    time_taken=(end-start)/60\n",
    "    logging.info('-----------------Ingestion Complete-----------------')\n",
    "    logging.info(f'\\nTime Taken for ingestion {time_taken} seconds')\n",
    "    \n",
    "    \n",
    "if __name__=='__main__':\n",
    "    load_raw_data()"
   ]
  }
 ],
 "metadata": {
  "kernelspec": {
   "display_name": "Python 3",
   "language": "python",
   "name": "python3"
  },
  "language_info": {
   "codemirror_mode": {
    "name": "ipython",
    "version": 3
   },
   "file_extension": ".py",
   "mimetype": "text/x-python",
   "name": "python",
   "nbconvert_exporter": "python",
   "pygments_lexer": "ipython3",
   "version": "3.13.4"
  }
 },
 "nbformat": 4,
 "nbformat_minor": 5
}
